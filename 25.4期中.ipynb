{
 "cells": [
  {
   "cell_type": "markdown",
   "id": "5190e93b",
   "metadata": {},
   "source": [
    "# 4. "
   ]
  },
  {
   "cell_type": "code",
   "execution_count": null,
   "id": "3d24bc31",
   "metadata": {},
   "outputs": [
    {
     "name": "stdout",
     "output_type": "stream",
     "text": [
      "False\n",
      "False\n",
      "False\n",
      "True\n"
     ]
    }
   ],
   "source": [
    "# A\n",
    "ans = len(str(123))\n",
    "print(ans % 2 == 0)\n",
    "# B\n",
    "ans = round(7.34)\n",
    "print(ans % 2 == 0)\n",
    "# C\n",
    "ans = (-5) ** 2 + 8 % 3 * 2\n",
    "print(ans % 2 == 0)\n",
    "# D\n",
    "ans = abs(ord(\"H\") - ord(\"J\"))\n",
    "print(ans % 2 == 0)"
   ]
  },
  {
   "cell_type": "markdown",
   "id": "bc5dcd6d",
   "metadata": {},
   "source": [
    "# 6"
   ]
  },
  {
   "cell_type": "code",
   "execution_count": null,
   "id": "6655b004",
   "metadata": {},
   "outputs": [
    {
     "name": "stdout",
     "output_type": "stream",
     "text": [
      "2\n",
      "2\n",
      "3\n",
      "1\n"
     ]
    }
   ],
   "source": [
    "def count_consecutive_chars(s):\n",
    "    # def：包装重复调用的代码\n",
    "    i = 0\n",
    "    n = 1\n",
    "\n",
    "    while i < len(s) - 1:\n",
    "        if s[i] == s[i + 1]:\n",
    "            n += 1\n",
    "        else:\n",
    "            n = 1\n",
    "        i += 1\n",
    "    print(n)\n",
    "\n",
    "\n",
    "count_consecutive_chars(\"aaabb\")\n",
    "count_consecutive_chars(\"abbaa\")\n",
    "count_consecutive_chars(\"bbaaa\")\n",
    "count_consecutive_chars(\"abbba\")"
   ]
  },
  {
   "cell_type": "markdown",
   "id": "d65e1fc0",
   "metadata": {},
   "source": [
    "# 8"
   ]
  },
  {
   "cell_type": "code",
   "execution_count": null,
   "id": "fcb6d915",
   "metadata": {},
   "outputs": [
    {
     "name": "stdout",
     "output_type": "stream",
     "text": [
      "A: 8.0 6.0\n",
      "B: 6 7\n",
      "B: 7 6\n",
      "C: 8 6\n",
      "D: 6 7\n"
     ]
    }
   ],
   "source": [
    "head = int(input(\"有几个头？\"))  # 14\n",
    "foot = int(input(\"有几个脚？\"))  # 40\n",
    "# A\n",
    "x = (head * 4 - foot) / 2\n",
    "y = head - x\n",
    "print(\"A:\", x, y)\n",
    "\n",
    "# B\n",
    "for x in range(head):\n",
    "    y = (foot - x * 2) // 4\n",
    "    if x + y == 13:\n",
    "        print(\"B:\", x, y)\n",
    "\n",
    "# C\n",
    "x = 0\n",
    "while x < head:\n",
    "    y = head - x\n",
    "    if x * 2 + y * 4 == foot:\n",
    "        print(\"C:\", x, y)\n",
    "    x += 1\n",
    "\n",
    "# D\n",
    "for x in range(head):\n",
    "    for y in range(head):\n",
    "        if x + y == 13 and x * 2 + y * 4 == foot:\n",
    "            print(\"D:\", x, y)"
   ]
  },
  {
   "cell_type": "markdown",
   "id": "5283ce2e",
   "metadata": {},
   "source": [
    "# 9"
   ]
  },
  {
   "cell_type": "code",
   "execution_count": null,
   "id": "8922a08d",
   "metadata": {},
   "outputs": [
    {
     "name": "stdout",
     "output_type": "stream",
     "text": [
      "n\n"
     ]
    }
   ],
   "source": [
    "s = \"gi34n5ne4z\"\n",
    "max = m = \"\"\n",
    "for i in range(len(s)):\n",
    "    if \"a\" <= s[i] <= \"z\":\n",
    "        m = s[i] + m\n",
    "    else:\n",
    "        if m > max:\n",
    "            max = m\n",
    "        m = \"\"\n",
    "print(max)"
   ]
  },
  {
   "cell_type": "markdown",
   "id": "8205831e",
   "metadata": {},
   "source": [
    "# 10"
   ]
  },
  {
   "cell_type": "code",
   "execution_count": null,
   "id": "58c9496f",
   "metadata": {},
   "outputs": [
    {
     "name": "stdout",
     "output_type": "stream",
     "text": [
      "[2, 3, 8, 7, 19, 10, 16, 12] 3\n",
      "[2, 3, 8, 7, 19, 10, 16, 12] 3\n",
      "[2, 3, 8, 7, 19, 10, 16, 12] 3\n"
     ]
    }
   ],
   "source": [
    "a = [3, 7, 8, 2, 19, 10, 16, 12]\n",
    "n = len(a)\n",
    "for i in range(2):\n",
    "    k = i\n",
    "    for j in range(i + 1, n):\n",
    "        if a[j] < a[k]:\n",
    "            k = j\n",
    "        if i != k:\n",
    "            a[i], a[k] = a[k], a[i]\n",
    "\n",
    "# A,C\n",
    "print(a, k)\n",
    "\n",
    "# B\n",
    "a = [3, 7, 8, 2, 19, 10, 16, 12]\n",
    "n = len(a)\n",
    "for i in range(0, 2):  # B\n",
    "    k = i\n",
    "    for j in range(i + 1, n):\n",
    "        if a[j] < a[k]:\n",
    "            k = j\n",
    "        if i != k:\n",
    "            a[i], a[k] = a[k], a[i]\n",
    "print(a,k)\n",
    "\n",
    "# D\n",
    "a = [3, 7, 8, 2, 19, 10, 16, 12]\n",
    "n = len(a)\n",
    "for i in range(2):\n",
    "    k = i\n",
    "    for j in range(i + 1, n):\n",
    "        if a[j] < a[k]:\n",
    "            k = j\n",
    "        if k > i:\n",
    "            a[i], a[k] = a[k], a[i]\n",
    "\n",
    "print(a, k)"
   ]
  },
  {
   "cell_type": "markdown",
   "id": "c46f786a",
   "metadata": {},
   "source": [
    "# 11"
   ]
  },
  {
   "cell_type": "code",
   "execution_count": null,
   "id": "910f93b7",
   "metadata": {},
   "outputs": [
    {
     "name": "stdout",
     "output_type": "stream",
     "text": [
      "10\n"
     ]
    }
   ],
   "source": [
    "a = int(input(\"请输入一个数：\"))\n",
    "if a > 0:\n",
    "    a = a % 10\n",
    "elif a == 0:\n",
    "    a = a + 1\n",
    "else:\n",
    "    a = a**2\n",
    "a = a + 10\n",
    "print(a)"
   ]
  },
  {
   "cell_type": "markdown",
   "id": "82f3cd77",
   "metadata": {},
   "source": [
    "# 12"
   ]
  },
  {
   "cell_type": "code",
   "execution_count": 15,
   "id": "6b5e69d1",
   "metadata": {},
   "outputs": [
    {
     "name": "stdout",
     "output_type": "stream",
     "text": [
      "{'a': 10, 'b': 20, 'c': 30}\n"
     ]
    }
   ],
   "source": [
    "li=[[\"a\",10],[\"b\",20],[\"c\",30]]\n",
    "dic={}\n",
    "for i in range(len(li)):\n",
    "    dic[li[i][0]]=li[i][1]\n",
    "print(dic)"
   ]
  },
  {
   "cell_type": "markdown",
   "id": "0e8470ae",
   "metadata": {},
   "source": [
    "# 13"
   ]
  },
  {
   "cell_type": "code",
   "execution_count": 22,
   "id": "3c5d7788",
   "metadata": {},
   "outputs": [
    {
     "name": "stdout",
     "output_type": "stream",
     "text": [
      "密码： 1234567 密码长度必须在8到20位之间\n",
      "密码： 12345678 密码不可以是纯数字\n",
      "密码： 13245678aaaaa 密码验证通过\n"
     ]
    }
   ],
   "source": [
    "for i in range(3):\n",
    "    pwd = input(\"请输入密码：\")\n",
    "    flag = False\n",
    "    for ch in pwd:\n",
    "        if not \"0\" <= ch <= \"9\":\n",
    "            flag = True\n",
    "            break\n",
    "    if not 8 <= len(pwd) <= 20:\n",
    "        print(\"密码：\",pwd,\"密码长度必须在8到20位之间\")\n",
    "    elif flag == False:\n",
    "        print(\"密码：\",pwd,\"密码不可以是纯数字\")\n",
    "    else:\n",
    "        print(\"密码：\",pwd,\"密码验证通过\")"
   ]
  },
  {
   "cell_type": "markdown",
   "id": "62725ae2",
   "metadata": {},
   "source": [
    "# 14"
   ]
  },
  {
   "cell_type": "code",
   "execution_count": 25,
   "id": "0d4aa092",
   "metadata": {},
   "outputs": [
    {
     "name": "stdout",
     "output_type": "stream",
     "text": [
      "ban 是素单词\n",
      "run 是素单词\n",
      "wuxianghighschool 不是素单词\n"
     ]
    }
   ],
   "source": [
    "for i in range(3):\n",
    "    word = input(\"请输入一个单词：\")\n",
    "    dic = {\n",
    "        \"a\": 1,\n",
    "        \"b\": 2,\n",
    "        \"c\": 3,\n",
    "        \"d\": 4,\n",
    "        \"e\": 5,\n",
    "        \"f\": 6,\n",
    "        \"g\": 7,\n",
    "        \"h\": 8,\n",
    "        \"i\": 9,\n",
    "        \"j\": 10,\n",
    "        \"k\": 11,\n",
    "        \"l\": 12,\n",
    "        \"m\": 13,\n",
    "        \"n\": 14,\n",
    "        \"o\": 15,\n",
    "        \"p\": 16,\n",
    "        \"q\": 17,\n",
    "        \"r\": 18,\n",
    "        \"s\": 19,\n",
    "        \"t\": 20,\n",
    "        \"u\": 21,\n",
    "        \"v\": 22,\n",
    "        \"w\": 23,\n",
    "        \"x\": 24,\n",
    "        \"y\": 25,\n",
    "        \"z\": 26,\n",
    "    }\n",
    "    c=0\n",
    "    for ch in word:\n",
    "        c+=dic[ch]\n",
    "    flag = True\n",
    "    for i in range(2,c):\n",
    "        if c%i==0:\n",
    "            flag=False\n",
    "            break\n",
    "    if flag==True:\n",
    "        print(word,\"是素单词\")\n",
    "    else:\n",
    "        print(word,\"不是素单词\")"
   ]
  }
 ],
 "metadata": {
  "kernelspec": {
   "display_name": "base",
   "language": "python",
   "name": "python3"
  },
  "language_info": {
   "codemirror_mode": {
    "name": "ipython",
    "version": 3
   },
   "file_extension": ".py",
   "mimetype": "text/x-python",
   "name": "python",
   "nbconvert_exporter": "python",
   "pygments_lexer": "ipython3",
   "version": "3.13.2"
  }
 },
 "nbformat": 4,
 "nbformat_minor": 5
}
