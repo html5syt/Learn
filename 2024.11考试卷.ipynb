{
 "cells": [
  {
   "cell_type": "markdown",
   "metadata": {},
   "source": [
    "# 11. "
   ]
  },
  {
   "cell_type": "code",
   "execution_count": 16,
   "metadata": {},
   "outputs": [
    {
     "name": "stdout",
     "output_type": "stream",
     "text": [
      "k= 6 ，循环进行了 1 次\n",
      "k= 18 ，循环进行了 2 次\n",
      "k= 36 ，循环进行了 3 次\n",
      "k= 60 ，循环进行了 4 次\n",
      "k= 90 ，循环进行了 5 次\n",
      "k= 126 ，循环进行了 6 次\n",
      "k= 168 ，循环进行了 7 次\n",
      "k= 216 ，循环进行了 8 次\n",
      "k= 270 ，循环进行了 9 次\n",
      "k= 270 ，t= 20 ,条件判断进行了 10 次\n"
     ]
    }
   ],
   "source": [
    "k=0\n",
    "t=2\n",
    "step=0\n",
    "\n",
    "while t<20:\n",
    "    step+=1  # 次数统计\n",
    "    k=k+3*t\n",
    "    t=t+2\n",
    "    print(\"k=\",k,\"，循环进行了\",step,\"次\")\n",
    "print(\"k=\",k,\"，t=\",t,\",条件判断进行了\",step+1,\"次\") # 跳出循环实际上也算判断一次，所以需要加1\n",
    "    "
   ]
  },
  {
   "cell_type": "markdown",
   "metadata": {},
   "source": [
    "# 12.\n",
    "## k←k//2 版本"
   ]
  },
  {
   "cell_type": "code",
   "execution_count": 26,
   "metadata": {},
   "outputs": [
    {
     "name": "stdout",
     "output_type": "stream",
     "text": [
      "n= 88\n",
      "条件判断进行了 1 次\n",
      "条件判断进行了 2 次\n",
      "条件判断进行了 3 次\n",
      "条件判断进行了 4 次\n",
      "条件判断进行了 5 次\n",
      "条件判断进行了 6 次\n",
      "条件判断进行了 7 次\n",
      "条件判断进行了 8 次\n",
      "输出： 01011000\n"
     ]
    }
   ],
   "source": [
    "s=''\n",
    "k=128\n",
    "n=int(input('输入n的值：'))\n",
    "print('n=',n)\n",
    "\n",
    "step=0\n",
    "\n",
    "while k>0:\n",
    "    step+=1\n",
    "    print('条件判断进行了',step,'次')\n",
    "    if n>=k:\n",
    "        s=s+'1'\n",
    "        n=n-k\n",
    "    else:\n",
    "        s=s+'0'\n",
    "    k=k//2\n",
    "print(\"输出：\",s)"
   ]
  },
  {
   "cell_type": "markdown",
   "metadata": {},
   "source": [
    "## k←k/2 版本"
   ]
  },
  {
   "cell_type": "code",
   "execution_count": 1,
   "metadata": {},
   "outputs": [
    {
     "name": "stdout",
     "output_type": "stream",
     "text": [
      "n= 88\n",
      "条件判断进行了 1 次\n",
      "条件判断进行了 2 次\n",
      "条件判断进行了 3 次\n",
      "条件判断进行了 4 次\n",
      "条件判断进行了 5 次\n",
      "条件判断进行了 6 次\n",
      "条件判断进行了 7 次\n",
      "条件判断进行了 8 次\n",
      "输出： 01011000\n"
     ]
    }
   ],
   "source": [
    "s=''\n",
    "k=128\n",
    "n=int(input('输入n的值：'))\n",
    "print('n=',n)\n",
    "\n",
    "step=0\n",
    "\n",
    "while int(k)>0:  # 注意这里需要将浮点数k转换为整数，否则会陷入死循环(k/2=64.0)\n",
    "    step+=1\n",
    "    print('条件判断进行了',step,'次')\n",
    "    if n>=k:\n",
    "        s=s+'1'\n",
    "        n=n-k\n",
    "    else:\n",
    "        s=s+'0'\n",
    "    k=k/2\n",
    "print(\"输出：\",s)"
   ]
  },
  {
   "cell_type": "markdown",
   "metadata": {},
   "source": [
    "# 20. "
   ]
  },
  {
   "cell_type": "code",
   "execution_count": 10,
   "metadata": {},
   "outputs": [
    {
     "name": "stdout",
     "output_type": "stream",
     "text": [
      "k= 2 h= 0.0002\n",
      "k= 3 h= 0.0004\n",
      "k= 4 h= 0.0008\n",
      "k= 5 h= 0.0016\n",
      "k= 6 h= 0.0032\n",
      "k= 7 h= 0.0064\n",
      "k= 8 h= 0.0128\n",
      "k= 9 h= 0.0256\n",
      "k= 10 h= 0.0512\n",
      "k= 11 h= 0.1024\n",
      "k= 12 h= 0.2048\n",
      "k= 13 h= 0.4096\n",
      "k= 14 h= 0.8192\n",
      "k= 15 h= 1.6384\n",
      "k= 16 h= 3.2768\n",
      "k= 17 h= 6.5536\n",
      "k= 18 h= 13.1072\n",
      "k= 19 h= 26.2144\n",
      "k= 20 h= 52.4288\n",
      "k= 21 h= 104.8576\n",
      "k= 22 h= 209.7152\n",
      "k= 23 h= 419.4304\n",
      "k= 24 h= 838.8608\n",
      "k= 25 h= 1677.7216\n",
      "k= 26 h= 3355.4432\n",
      "k= 27 h= 6710.8864\n",
      "k= 28 h= 13421.7728\n",
      "28\n"
     ]
    }
   ],
   "source": [
    "h=0.0001\n",
    "k=1\n",
    "\n",
    "while h<=8848.43:\n",
    "    h=h*2\n",
    "    k=k+1\n",
    "    print('k=',k,'h=',h)\n",
    "print(k)"
   ]
  },
  {
   "cell_type": "markdown",
   "metadata": {},
   "source": [
    "# 21. "
   ]
  },
  {
   "cell_type": "code",
   "execution_count": 15,
   "metadata": {},
   "outputs": [
    {
     "name": "stdout",
     "output_type": "stream",
     "text": [
      "第 1 天，积分为 2 元，累计积分为 1 元\n",
      "第 2 天，积分为 4 元，累计积分为 3 元\n",
      "第 3 天，积分为 8 元，累计积分为 7 元\n",
      "第 4 天，积分为 16 元，累计积分为 15 元\n",
      "第 5 天，积分为 32 元，累计积分为 31 元\n",
      "第 6 天，积分为 64 元，累计积分为 63 元\n",
      "第 7 天，积分为 128 元，累计积分为 127 元\n",
      "第 8 天，积分为 256 元，累计积分为 255 元\n",
      "第 9 天，积分为 512 元，累计积分为 511 元\n",
      "第 10 天，积分为 1024 元，累计积分为 1023 元\n",
      "第 11 天，积分为 2048 元，累计积分为 2047 元\n",
      "第 12 天，积分为 4096 元，累计积分为 4095 元\n",
      "第 13 天，积分为 8192 元，累计积分为 8191 元\n",
      "第 14 天，积分为 16384 元，累计积分为 16383 元\n",
      "第 15 天，积分为 32768 元，累计积分为 32767 元\n",
      "累计积分为 32767 元,共需要 15 天\n"
     ]
    }
   ],
   "source": [
    "sum_jf=0\n",
    "jf=1\n",
    "day=0\n",
    "\n",
    "while jf<=20000:\n",
    "    sum_jf=sum_jf+jf\n",
    "    jf=jf*2\n",
    "    day=day+1\n",
    "    print('第',day,'天，积分为',jf,'元，累计积分为',sum_jf,'元')\n",
    "print('累计积分为',sum_jf,'元,共需要',day,'天')"
   ]
  }
 ],
 "metadata": {
  "kernelspec": {
   "display_name": "Python 3",
   "language": "python",
   "name": "python3"
  },
  "language_info": {
   "codemirror_mode": {
    "name": "ipython",
    "version": 3
   },
   "file_extension": ".py",
   "mimetype": "text/x-python",
   "name": "python",
   "nbconvert_exporter": "python",
   "pygments_lexer": "ipython3",
   "version": "3.13.0"
  }
 },
 "nbformat": 4,
 "nbformat_minor": 2
}
